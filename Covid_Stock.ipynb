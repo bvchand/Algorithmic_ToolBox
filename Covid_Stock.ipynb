{
  "nbformat": 4,
  "nbformat_minor": 0,
  "metadata": {
    "colab": {
      "name": "Covid_Stock.ipynb",
      "provenance": [],
      "collapsed_sections": [],
      "include_colab_link": true
    },
    "kernelspec": {
      "name": "python3",
      "display_name": "Python 3"
    }
  },
  "cells": [
    {
      "cell_type": "markdown",
      "metadata": {
        "id": "view-in-github",
        "colab_type": "text"
      },
      "source": [
        "<a href=\"https://colab.research.google.com/github/bvchand/Algorithmic_ToolBox/blob/main/Covid_Stock.ipynb\" target=\"_parent\"><img src=\"https://colab.research.google.com/assets/colab-badge.svg\" alt=\"Open In Colab\"/></a>"
      ]
    },
    {
      "cell_type": "code",
      "metadata": {
        "id": "z7cKyzk79VUp"
      },
      "source": [
        "import pandas as pd\n",
        "import matplotlib.pyplot as plt\n",
        "import os"
      ],
      "execution_count": 171,
      "outputs": []
    },
    {
      "cell_type": "code",
      "metadata": {
        "id": "abLlCXjQxLWE",
        "outputId": "c0e0bfe6-441c-4b2a-f162-82d6e22bbb54",
        "colab": {
          "base_uri": "https://localhost:8080/"
        }
      },
      "source": [
        "# Comment this out as I am trying the mount my google drive\n",
        "from google.colab import drive\n",
        "drive.mount('/content/drive')"
      ],
      "execution_count": 172,
      "outputs": [
        {
          "output_type": "stream",
          "text": [
            "Drive already mounted at /content/drive; to attempt to forcibly remount, call drive.mount(\"/content/drive\", force_remount=True).\n"
          ],
          "name": "stdout"
        }
      ]
    },
    {
      "cell_type": "code",
      "metadata": {
        "id": "847mykp8-TWX"
      },
      "source": [
        "# Merging the Stock Indexes and the currency data with rows as dates and columns as index values\n",
        "# Preprocessing the data sets with online steps for data processing \n",
        "# Figuring a way to convert the unemployment data into county wise data - probably using a probability distribution\n",
        "# Deal with missing stock data for weekends and holidays"
      ],
      "execution_count": 173,
      "outputs": []
    },
    {
      "cell_type": "markdown",
      "metadata": {
        "id": "UbBSALPbnyz_"
      },
      "source": [
        "Stock Data: Pre-processing\n"
      ]
    },
    {
      "cell_type": "code",
      "metadata": {
        "id": "9WeEbAqBns3G"
      },
      "source": [
        "# Reading CSVs for three stock indices\n",
        "df = pd.read_csv(\"/content/drive/Shared drives/Stock_Covid_Data/stock_data/DJI.csv\")\n",
        "df_DJI = df[[\"Date\", \"Adj Close\", \"Volume\"]]\n",
        "\n",
        "df = pd.read_csv(\"/content/drive/Shared drives/Stock_Covid_Data/stock_data/NASDAQ.csv\")\n",
        "df_NASDAQ = df[[\"Date\", \"Adj Close\", \"Volume\"]]\n",
        "\n",
        "df = pd.read_csv(\"/content/drive/Shared drives/Stock_Covid_Data/stock_data/S&P500.csv\")\n",
        "df_SP500 = df[[\"Date\", \"Adj Close\", \"Volume\"]]"
      ],
      "execution_count": 174,
      "outputs": []
    },
    {
      "cell_type": "code",
      "metadata": {
        "id": "D3hbuwrkns59"
      },
      "source": [
        "# Rename columns in each index in order to merge the indices \n",
        "df_NASDAQ = df_NASDAQ.rename(columns={'Adj Close': 'Adj Close NASDAQ', 'Volume': 'Volume NASDAQ'})\n",
        "df_SP500 = df_SP500.rename(columns={'Adj Close': 'Adj Close SP500', 'Volume': 'Volume SP500'})\n",
        "df_DJI = df_DJI.rename(columns={'Adj Close': 'Adj Close DJI', 'Volume': 'Volume DJI'})"
      ],
      "execution_count": 175,
      "outputs": []
    },
    {
      "cell_type": "code",
      "metadata": {
        "id": "wHKeE7V6ns87"
      },
      "source": [
        "# Merging data of three stock indices based on column: 'Date' (merging two DFs at once)\n",
        "df_Merged = pd.merge(df_SP500, df_DJI, on=['Date'])\n",
        "df_stock_data = pd.merge(df_Merged, df_NASDAQ, on=['Date'])"
      ],
      "execution_count": 176,
      "outputs": []
    },
    {
      "cell_type": "code",
      "metadata": {
        "id": "kThip465ns_2",
        "outputId": "deb74340-ef59-4d0e-adbb-351ac37d5bc0",
        "colab": {
          "base_uri": "https://localhost:8080/",
          "height": 204
        }
      },
      "source": [
        "df_stock_data.head()"
      ],
      "execution_count": 177,
      "outputs": [
        {
          "output_type": "execute_result",
          "data": {
            "text/html": [
              "<div>\n",
              "<style scoped>\n",
              "    .dataframe tbody tr th:only-of-type {\n",
              "        vertical-align: middle;\n",
              "    }\n",
              "\n",
              "    .dataframe tbody tr th {\n",
              "        vertical-align: top;\n",
              "    }\n",
              "\n",
              "    .dataframe thead th {\n",
              "        text-align: right;\n",
              "    }\n",
              "</style>\n",
              "<table border=\"1\" class=\"dataframe\">\n",
              "  <thead>\n",
              "    <tr style=\"text-align: right;\">\n",
              "      <th></th>\n",
              "      <th>Date</th>\n",
              "      <th>Adj Close SP500</th>\n",
              "      <th>Volume SP500</th>\n",
              "      <th>Adj Close DJI</th>\n",
              "      <th>Volume DJI</th>\n",
              "      <th>Adj Close NASDAQ</th>\n",
              "      <th>Volume NASDAQ</th>\n",
              "    </tr>\n",
              "  </thead>\n",
              "  <tbody>\n",
              "    <tr>\n",
              "      <th>0</th>\n",
              "      <td>2015-10-26</td>\n",
              "      <td>2071.179932</td>\n",
              "      <td>3385800000</td>\n",
              "      <td>17623.050781</td>\n",
              "      <td>116660000</td>\n",
              "      <td>5034.700195</td>\n",
              "      <td>1758690000</td>\n",
              "    </tr>\n",
              "    <tr>\n",
              "      <th>1</th>\n",
              "      <td>2015-10-27</td>\n",
              "      <td>2065.889893</td>\n",
              "      <td>4216880000</td>\n",
              "      <td>17581.429688</td>\n",
              "      <td>113960000</td>\n",
              "      <td>5030.149902</td>\n",
              "      <td>1986840000</td>\n",
              "    </tr>\n",
              "    <tr>\n",
              "      <th>2</th>\n",
              "      <td>2015-10-28</td>\n",
              "      <td>2090.350098</td>\n",
              "      <td>4698110000</td>\n",
              "      <td>17779.519531</td>\n",
              "      <td>115630000</td>\n",
              "      <td>5095.689941</td>\n",
              "      <td>2141130000</td>\n",
              "    </tr>\n",
              "    <tr>\n",
              "      <th>3</th>\n",
              "      <td>2015-10-29</td>\n",
              "      <td>2089.409912</td>\n",
              "      <td>4008940000</td>\n",
              "      <td>17755.800781</td>\n",
              "      <td>90300000</td>\n",
              "      <td>5074.270020</td>\n",
              "      <td>1928310000</td>\n",
              "    </tr>\n",
              "    <tr>\n",
              "      <th>4</th>\n",
              "      <td>2015-10-30</td>\n",
              "      <td>2079.360107</td>\n",
              "      <td>4256200000</td>\n",
              "      <td>17663.539063</td>\n",
              "      <td>149250000</td>\n",
              "      <td>5053.750000</td>\n",
              "      <td>2016390000</td>\n",
              "    </tr>\n",
              "  </tbody>\n",
              "</table>\n",
              "</div>"
            ],
            "text/plain": [
              "         Date  Adj Close SP500  ...  Adj Close NASDAQ  Volume NASDAQ\n",
              "0  2015-10-26      2071.179932  ...       5034.700195     1758690000\n",
              "1  2015-10-27      2065.889893  ...       5030.149902     1986840000\n",
              "2  2015-10-28      2090.350098  ...       5095.689941     2141130000\n",
              "3  2015-10-29      2089.409912  ...       5074.270020     1928310000\n",
              "4  2015-10-30      2079.360107  ...       5053.750000     2016390000\n",
              "\n",
              "[5 rows x 7 columns]"
            ]
          },
          "metadata": {
            "tags": []
          },
          "execution_count": 177
        }
      ]
    },
    {
      "cell_type": "markdown",
      "metadata": {
        "id": "-whAELR8y9d_"
      },
      "source": [
        "# COVID-19 Data Loading and Preprocessing"
      ]
    },
    {
      "cell_type": "code",
      "metadata": {
        "id": "q8ilNwWHntC5"
      },
      "source": [
        "# Function to load the covid_clean_complete dataset from the drive\n",
        "def load_dataset_us_cases():  \n",
        "  df_covid_clean_complete = pd.read_csv(\"/content/drive/Shared drives/Stock_Covid_Data/COVID_19/covid_19_clean_complete.csv\")\n",
        "  return df_covid_clean_complete\n",
        "\n",
        "# Function to preprocess the clean_complete_dataset\n",
        "def preprocess_us_cases_df():\n",
        "  df_US_daily_cases = load_dataset_us_cases()\n",
        "\n",
        "  # get the daily data only for US\n",
        "  df_US_daily_cases = df_covid_clean_complete.loc[df_covid_clean_complete['Country/Region'] == \"US\"]\n",
        "  \n",
        "  df_US_daily_cases = df_US_daily_cases.reset_index(drop=True)\n",
        "\n",
        "  # Added a column for new_cases daily by getting the differerence of the confirmed cases\n",
        "  df_US_daily_cases[\"New_cases\"] = df_US_daily_cases[\"Confirmed\"].diff()\n",
        "  \n",
        "  df_US_daily_cases['New_cases'] = df_US_daily_cases['New_cases'].fillna(0)\n",
        "\n",
        "  df_US_daily_cases = df_US_daily_cases.rename(columns={\"Confirmed\": \"Total_Confirmed\", \"Deaths\" : \"Total_Deaths\"})\n",
        "\n",
        "  return df_US_daily_cases\n"
      ],
      "execution_count": 182,
      "outputs": []
    },
    {
      "cell_type": "markdown",
      "metadata": {
        "id": "3COXSluaHjZs"
      },
      "source": [
        "# Standardize the COVID variables like New_cases, Total_cases, Total_deaths"
      ]
    },
    {
      "cell_type": "code",
      "metadata": {
        "id": "1c1unfm214_r"
      },
      "source": [
        "# Function to standardize the covid_variables like New_cases, Total_cases, Total_deaths\n",
        "# Adds new columns to the df with the standarized values\n",
        "# params - the dataframe, and the column name (COVID Variable) which has to be standarized\n",
        "def covid_variable_impact_cal(dataframe_to_standardize, column_name):\n",
        "  col_mean = dataframe_to_standardize[column_name].mean()\n",
        "  col_std  = dataframe_to_standardize[column_name].std()\n",
        "\n",
        "  col_name = \"Standardized_Value_\" + column_name\n",
        "  dataframe_to_standardize[col_name] = dataframe_to_standardize[column_name]\n",
        "\n",
        "  i = 0\n",
        "  j = 0\n",
        "  while i < len(dataframe_to_standardize):\n",
        "    j = i\n",
        "    if i > 7:\n",
        "      curr_daily_value = dataframe_to_standardize[column_name][i]\n",
        "\n",
        "      formula_cal_value = (curr_daily_value - col_mean) / col_std\n",
        "\n",
        "      dataframe_to_standardize.loc[i, col_name] = formula_cal_value\n",
        "\n",
        "    i += 1\n",
        "\n",
        "  return dataframe_to_standardize"
      ],
      "execution_count": 183,
      "outputs": []
    },
    {
      "cell_type": "code",
      "metadata": {
        "id": "rWYBLN-20_S1",
        "outputId": "5d734d7e-e115-4310-9737-4a554d003b87",
        "colab": {
          "base_uri": "https://localhost:8080/",
          "height": 300
        }
      },
      "source": [
        "df_US_daily_cases = preprocess_us_cases_df()\n",
        "df_US_daily_cases.head()\n"
      ],
      "execution_count": 184,
      "outputs": [
        {
          "output_type": "error",
          "ename": "NameError",
          "evalue": "ignored",
          "traceback": [
            "\u001b[0;31m---------------------------------------------------------------------------\u001b[0m",
            "\u001b[0;31mNameError\u001b[0m                                 Traceback (most recent call last)",
            "\u001b[0;32m<ipython-input-184-297091db2a18>\u001b[0m in \u001b[0;36m<module>\u001b[0;34m()\u001b[0m\n\u001b[0;32m----> 1\u001b[0;31m \u001b[0mdf_US_daily_cases\u001b[0m \u001b[0;34m=\u001b[0m \u001b[0mpreprocess_us_cases_df\u001b[0m\u001b[0;34m(\u001b[0m\u001b[0;34m)\u001b[0m\u001b[0;34m\u001b[0m\u001b[0;34m\u001b[0m\u001b[0m\n\u001b[0m\u001b[1;32m      2\u001b[0m \u001b[0mdf_US_daily_cases\u001b[0m\u001b[0;34m.\u001b[0m\u001b[0mhead\u001b[0m\u001b[0;34m(\u001b[0m\u001b[0;34m)\u001b[0m\u001b[0;34m\u001b[0m\u001b[0;34m\u001b[0m\u001b[0m\n",
            "\u001b[0;32m<ipython-input-182-2aceb5c12c47>\u001b[0m in \u001b[0;36mpreprocess_us_cases_df\u001b[0;34m()\u001b[0m\n\u001b[1;32m      9\u001b[0m \u001b[0;34m\u001b[0m\u001b[0m\n\u001b[1;32m     10\u001b[0m   \u001b[0;31m# get the daily data only for US\u001b[0m\u001b[0;34m\u001b[0m\u001b[0;34m\u001b[0m\u001b[0;34m\u001b[0m\u001b[0m\n\u001b[0;32m---> 11\u001b[0;31m   \u001b[0mdf_US_daily_cases\u001b[0m \u001b[0;34m=\u001b[0m \u001b[0mdf_covid_clean_complete\u001b[0m\u001b[0;34m.\u001b[0m\u001b[0mloc\u001b[0m\u001b[0;34m[\u001b[0m\u001b[0mdf_covid_clean_complete\u001b[0m\u001b[0;34m[\u001b[0m\u001b[0;34m'Country/Region'\u001b[0m\u001b[0;34m]\u001b[0m \u001b[0;34m==\u001b[0m \u001b[0;34m\"US\"\u001b[0m\u001b[0;34m]\u001b[0m\u001b[0;34m\u001b[0m\u001b[0;34m\u001b[0m\u001b[0m\n\u001b[0m\u001b[1;32m     12\u001b[0m \u001b[0;34m\u001b[0m\u001b[0m\n\u001b[1;32m     13\u001b[0m   \u001b[0mdf_US_daily_cases\u001b[0m \u001b[0;34m=\u001b[0m \u001b[0mdf_US_daily_cases\u001b[0m\u001b[0;34m.\u001b[0m\u001b[0mreset_index\u001b[0m\u001b[0;34m(\u001b[0m\u001b[0mdrop\u001b[0m\u001b[0;34m=\u001b[0m\u001b[0;32mTrue\u001b[0m\u001b[0;34m)\u001b[0m\u001b[0;34m\u001b[0m\u001b[0;34m\u001b[0m\u001b[0m\n",
            "\u001b[0;31mNameError\u001b[0m: name 'df_covid_clean_complete' is not defined"
          ]
        }
      ]
    },
    {
      "cell_type": "code",
      "metadata": {
        "id": "QnMre8cu-iQ1",
        "outputId": "7a5ee685-4933-413e-fc13-50aa5abcab85",
        "colab": {
          "base_uri": "https://localhost:8080/",
          "height": 198
        }
      },
      "source": [
        "df_standarized = covid_variable_impact_cal(df_US_daily_cases, \"Total_Confirmed\")\n",
        "\n",
        "df_standarized.head()"
      ],
      "execution_count": 185,
      "outputs": [
        {
          "output_type": "error",
          "ename": "NameError",
          "evalue": "ignored",
          "traceback": [
            "\u001b[0;31m---------------------------------------------------------------------------\u001b[0m",
            "\u001b[0;31mNameError\u001b[0m                                 Traceback (most recent call last)",
            "\u001b[0;32m<ipython-input-185-5e5364c52369>\u001b[0m in \u001b[0;36m<module>\u001b[0;34m()\u001b[0m\n\u001b[0;32m----> 1\u001b[0;31m \u001b[0mdf_standarized\u001b[0m \u001b[0;34m=\u001b[0m \u001b[0mcovid_variable_impact_cal\u001b[0m\u001b[0;34m(\u001b[0m\u001b[0mdf_US_daily_cases\u001b[0m\u001b[0;34m,\u001b[0m \u001b[0;34m\"Total_Confirmed\"\u001b[0m\u001b[0;34m)\u001b[0m\u001b[0;34m\u001b[0m\u001b[0;34m\u001b[0m\u001b[0m\n\u001b[0m\u001b[1;32m      2\u001b[0m \u001b[0;34m\u001b[0m\u001b[0m\n\u001b[1;32m      3\u001b[0m \u001b[0mdf_standarized\u001b[0m\u001b[0;34m.\u001b[0m\u001b[0mhead\u001b[0m\u001b[0;34m(\u001b[0m\u001b[0;34m)\u001b[0m\u001b[0;34m\u001b[0m\u001b[0;34m\u001b[0m\u001b[0m\n",
            "\u001b[0;31mNameError\u001b[0m: name 'df_US_daily_cases' is not defined"
          ]
        }
      ]
    },
    {
      "cell_type": "markdown",
      "metadata": {
        "id": "Ebk_gH8kX8vo"
      },
      "source": [
        "## Computing Stock paramaters - Abnormal price and Volatality:"
      ]
    },
    {
      "cell_type": "code",
      "metadata": {
        "id": "qSuYAyoOYY9n"
      },
      "source": [
        "def stock_params(df_stock_data):\n",
        "  # splitting stock data as pre-covid and covid\n",
        "  mask = (df_stock_data['Date'] >= '2015-10-26') & (df_stock_data['Date'] <= '2020-01-21')\n",
        "  historical_stock_data = df_stock_data.loc[mask]\n",
        "\n",
        "  mask = (df_stock_data['Date'] > '2020-01-21') & (df_stock_data['Date'] <= '2020-07-27') #135 days excluding weekends - 188 days including\n",
        "  covid_stock_data =  df_stock_data.loc[mask]\n",
        "  covid_closing_prices = covid_stock_data.iloc[:, lambda df: [1,3,5]]\n",
        "  \n",
        "  print(\"P_t\")\n",
        "  print(covid_closing_prices)\n",
        "\n",
        "  # compute the average price between 2015-10-26 and 2020-01-21\n",
        "  history_closing_prices = historical_stock_data.iloc[:, lambda df: [1,3,5]]\n",
        "  history_total = history_closing_prices.sum()\n",
        "  avg_history_total = history_total.div(1066)\n",
        "\n",
        "  print(\"P_t-i\")\n",
        "  print(avg_history_total)\n",
        "\n",
        "  # compute standard deviation\n",
        "  diff = history_closing_prices - [avg_history_total[0], avg_history_total[1], avg_history_total[2]]\n",
        "  sd_stock_indices = (diff**2 / 1066)**0.5\n",
        "\n",
        "  print(\"sigma_P\")\n",
        "  print(sd_stock_indices)\n",
        "\n",
        "\n",
        "  return historical_stock_data,covid_stock_data\n"
      ],
      "execution_count": 162,
      "outputs": []
    },
    {
      "cell_type": "code",
      "metadata": {
        "id": "5asmSbMaZ_x2",
        "outputId": "72dd2638-4fd9-4337-e30e-971953a62a1a",
        "colab": {
          "base_uri": "https://localhost:8080/"
        }
      },
      "source": [
        "historical_stock_data,covid_stock_data = stock_params(df_stock_data)\n",
        "# print(historical_stock_data)\n",
        "# print(covid_stock_data)"
      ],
      "execution_count": 163,
      "outputs": [
        {
          "output_type": "stream",
          "text": [
            "P_t\n",
            "      Adj Close SP500  Adj Close DJI  Adj Close NASDAQ\n",
            "1066      3321.750000   29186.269531       9383.769531\n",
            "1067      3325.540039   29160.089844       9402.480469\n",
            "1068      3295.469971   28989.730469       9314.910156\n",
            "1069      3243.629883   28535.800781       9139.309570\n",
            "1070      3276.239990   28722.849609       9269.679688\n",
            "...               ...            ...               ...\n",
            "1191      3257.300049   26840.400391      10680.360352\n",
            "1192      3276.020020   27005.839844      10706.129883\n",
            "1193      3235.659912   26652.330078      10461.419922\n",
            "1194      3215.629883   26469.890625      10363.179688\n",
            "1195      3239.409912   26584.769531      10536.269531\n",
            "\n",
            "[130 rows x 3 columns]\n",
            "P_t-i\n",
            "Adj Close SP500      2538.303169\n",
            "Adj Close DJI       22624.756401\n",
            "Adj Close NASDAQ     6608.168708\n",
            "dtype: float64\n",
            "sigma_P\n",
            "      Adj Close SP500  Adj Close DJI  Adj Close NASDAQ\n",
            "0           14.307141     153.193213         48.192500\n",
            "1           14.469166     154.467992         48.331867\n",
            "2           13.719994     148.400858         46.324494\n",
            "3           13.748790     149.127320         46.980547\n",
            "4           14.056597     151.953130         47.609039\n",
            "...               ...            ...               ...\n",
            "1061        22.813311     193.414400         80.955261\n",
            "1062        23.001372     196.187807         81.180994\n",
            "1063        23.844261     204.378397         84.195718\n",
            "1064        24.236609     205.923864         85.170017\n",
            "1065        23.966160     201.266524         84.614702\n",
            "\n",
            "[1066 rows x 3 columns]\n"
          ],
          "name": "stdout"
        }
      ]
    },
    {
      "cell_type": "code",
      "metadata": {
        "id": "asGQQ9UeaBiG"
      },
      "source": [
        ""
      ],
      "execution_count": null,
      "outputs": []
    }
  ]
}